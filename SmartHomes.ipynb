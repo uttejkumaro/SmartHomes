{
  "nbformat": 4,
  "nbformat_minor": 0,
  "metadata": {
    "colab": {
      "provenance": []
    },
    "kernelspec": {
      "name": "python3",
      "display_name": "Python 3"
    },
    "language_info": {
      "name": "python"
    }
  },
  "cells": [
    {
      "cell_type": "code",
      "source": [
        "def signup():\n",
        "    print(\"Welcome to Sign Up!\")\n",
        "    username = input(\"Enter your username: \")\n",
        "    password = input(\"Enter your password: \")\n",
        "    users[username] = password\n",
        "    print(\"Sign up successful!\")\n",
        "\n",
        "def login():\n",
        "    print(\"Welcome to Login!\")\n",
        "    username = input(\"Enter your username: \")\n",
        "    password = input(\"Enter your password: \")\n",
        "    if username in users and users[username] == password:\n",
        "        print(\"Login successful!\")\n",
        "    else:\n",
        "        print(\"Invalid username or password.\")\n",
        "\n",
        "def admin_login():\n",
        "    print(\"Welcome to Administrator Login!\")\n",
        "    username = input(\"Enter your administrator username: \")\n",
        "    password = input(\"Enter your administrator password: \")\n",
        "    if username == admin_username and password == admin_password:\n",
        "        print(\"Administrator Login successful!\")\n",
        "        add_user()\n",
        "    else:\n",
        "        print(\"Invalid administrator username or password.\")\n",
        "\n",
        "def add_user():\n",
        "    print(\"\\nAdding User:\")\n",
        "    username = input(\"Enter new username: \")\n",
        "    password = input(\"Enter new password: \")\n",
        "    users[username] = password\n",
        "    print(\"User added successfully!\")\n",
        "\n",
        "# Administrator credentials\n",
        "admin_username = \"admin\"\n",
        "admin_password = \"admin123\"\n",
        "\n",
        "users = {}\n",
        "\n",
        "while True:\n",
        "    print(\"\\nMenu:\")\n",
        "    print(\"1. Sign Up\")\n",
        "    print(\"2. Login\")\n",
        "    print(\"3. Administrator Login\")\n",
        "    print(\"4. Exit\")\n",
        "    choice = input(\"Enter your choice: \")\n",
        "\n",
        "    if choice == \"1\":\n",
        "        signup()\n",
        "    elif choice == \"2\":\n",
        "        login()\n",
        "    elif choice == \"3\":\n",
        "        admin_login()\n",
        "    elif choice == \"4\":\n",
        "        print(\"Exiting program.\")\n",
        "        break\n",
        "    else:\n",
        "        print(\"Invalid choice. Please enter 1, 2, 3, or 4.\")\n"
      ],
      "metadata": {
        "id": "V4iqMFC1MEMq",
        "outputId": "fe40a373-b0d5-47cc-8de1-b82ab1a218bc",
        "colab": {
          "base_uri": "https://localhost:8080/"
        }
      },
      "execution_count": null,
      "outputs": [
        {
          "metadata": {
            "tags": null
          },
          "name": "stdout",
          "output_type": "stream",
          "text": [
            "\n",
            "Menu:\n",
            "1. Sign Up\n",
            "2. Login\n",
            "3. Administrator Login\n",
            "4. Exit\n"
          ]
        }
      ]
    },
    {
      "cell_type": "code",
      "source": [
        "pip install google-cloud-speech"
      ],
      "metadata": {
        "id": "Pbvgb8ItOqEe"
      },
      "execution_count": null,
      "outputs": []
    },
    {
      "cell_type": "code",
      "source": [
        "pip install pyproject.toml"
      ],
      "metadata": {
        "id": "Wcyd6fvuQLcR"
      },
      "execution_count": null,
      "outputs": []
    },
    {
      "cell_type": "code",
      "source": [
        "pip install pyaudio"
      ],
      "metadata": {
        "id": "6LaaLAL9QetK"
      },
      "execution_count": null,
      "outputs": []
    },
    {
      "cell_type": "code",
      "source": [
        "from google.cloud import speech\n",
        "import pyaudio\n",
        "\n",
        "# Set up Google Cloud credentials (replace 'path/to/your/credentials.json' with your actual path)\n",
        "import os\n",
        "os.environ[\"GOOGLE_APPLICATION_CREDENTIALS\"] = \"path/to/your/credentials.json\"\n",
        "\n",
        "# Configure audio settings\n",
        "FORMAT = pyaudio.paInt16\n",
        "CHANNELS = 1\n",
        "RATE = 44100\n",
        "CHUNK = 1024\n",
        "\n",
        "# Initialize Google Cloud Speech client\n",
        "client = speech.SpeechClient()\n",
        "\n",
        "# Function to transcribe audio in real-time\n",
        "def transcribe_audio():\n",
        "    audio = pyaudio.PyAudio()\n",
        "    stream = audio.open(format=FORMAT, channels=CHANNELS, rate=RATE, input=True, frames_per_buffer=CHUNK)\n",
        "    print(\"Listening...\")\n",
        "\n",
        "    stream.start_stream()\n",
        "\n",
        "    while True:\n",
        "        data = stream.read(CHUNK)\n",
        "        try:\n",
        "            response = client.recognize(config={\"encoding\": speech.RecognitionConfig.AudioEncoding.LINEAR16, \"sample_rate_hertz\": RATE, \"language_code\": \"en-US\"}, audio={\"content\": data})\n",
        "            for result in response.results:\n",
        "                print(\"Transcript: {}\".format(result.alternatives[0].transcript))\n",
        "        except Exception as e:\n",
        "            print(\"Error:\", e)\n",
        "            continue\n",
        "\n",
        "    stream.stop_stream()\n",
        "    stream.close()\n",
        "    audio.terminate()\n",
        "\n",
        "if __name__ == \"__main__\":\n",
        "    transcribe_audio()\n"
      ],
      "metadata": {
        "id": "15zt7fa9O5an"
      },
      "execution_count": null,
      "outputs": []
    },
    {
      "cell_type": "code",
      "source": [
        "pip install speechrecognition"
      ],
      "metadata": {
        "id": "2MYz00_nNuou"
      },
      "execution_count": null,
      "outputs": []
    },
    {
      "cell_type": "code",
      "source": [
        "import speech_recognition as sr\n",
        "\n",
        "def transcribe_audio(audio_file):\n",
        "    # Initialize the recognizer\n",
        "    recognizer = sr.Recognizer()\n",
        "\n",
        "    # Load the audio file\n",
        "    with sr.AudioFile(audio_file) as source:\n",
        "        # Record the audio from the file\n",
        "        audio_data = recognizer.record(source)\n",
        "\n",
        "        try:\n",
        "            # Use Google Web Speech API to recognize the audio\n",
        "            text = recognizer.recognize_google(audio_data)\n",
        "            print(\"Transcription:\")\n",
        "            print(text)\n",
        "        except sr.UnknownValueError:\n",
        "            print(\"Google Web Speech API could not understand audio\")\n",
        "        except sr.RequestError as e:\n",
        "            print(f\"Could not request results from Google Web Speech API; {e}\")\n",
        "\n",
        "# Replace 'audio_file.wav' with the path to your audio file\n",
        "audio_file = \"audio_file.wav\"\n",
        "transcribe_audio(audio_file)\n"
      ],
      "metadata": {
        "id": "OsAllmEzMcfm"
      },
      "execution_count": null,
      "outputs": []
    },
    {
      "cell_type": "code",
      "source": [
        "import cv2\n",
        "import dlib\n",
        "import numpy as np\n",
        "\n",
        "\n",
        "# Capture frames from the primary camera\n",
        "cap = cv2.VideoCapture(0)\n",
        "\n",
        "# Face detector model\n",
        "face_detector = dlib.get_frontal_face_detector()\n",
        "\n",
        "# Capture frames continuously\n",
        "while True:\n",
        "    ret, frame = cap.read()\n",
        "    frame = cv2.flip(frame, 1)\n",
        "\n",
        "    # Convert RGB to grayscale\n",
        "    gray = cv2.cvtColor(frame, cv2.COLOR_BGR2GRAY)\n",
        "\n",
        "    # Detect faces\n",
        "    faces = face_detector(gray)\n",
        "\n",
        "    # Iterate through all the faces and draw rectangles around each face and also number it\n",
        "    for i, face in enumerate(faces):\n",
        "        # Find the coordinates of the face\n",
        "        x, y = face.left(), face.top()\n",
        "        xl, yl = face.right(), face.bottom()\n",
        "\n",
        "        # Draw the rectangle\n",
        "        cv2.rectangle(frame, (x, y), (xl, yl), (0, 255, 0), 2)\n",
        "\n",
        "        # Add face number\n",
        "        cv2.putText(frame, \"Face num \" + str(i+1), (x - 10, y - 10), cv2.FONT_HERSHEY_SIMPLEX, 0.7, (0, 0, 255), 2)\n",
        "\n",
        "    # Display the frame\n",
        "    cv2.imshow('frame', frame)\n",
        "\n",
        "    # Code to come out of the infinite loop / interrupt the execution\n",
        "    if cv2.waitKey(1) & 0xFF == ord('q'):\n",
        "        break\n",
        "\n",
        "# Release the capture and destroy all windows\n",
        "cap.release()\n",
        "cv2.destroyAllWindows()"
      ],
      "metadata": {
        "id": "PSbzmqFmfqNl"
      },
      "execution_count": null,
      "outputs": []
    }
  ]
}