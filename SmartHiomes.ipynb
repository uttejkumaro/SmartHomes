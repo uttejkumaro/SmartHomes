{
  "nbformat": 4,
  "nbformat_minor": 0,
  "metadata": {
    "colab": {
      "provenance": []
    },
    "kernelspec": {
      "name": "python3",
      "display_name": "Python 3"
    },
    "language_info": {
      "name": "python"
    }
  },
  "cells": [
    {
      "cell_type": "code",
      "execution_count": null,
      "metadata": {
        "colab": {
          "base_uri": "https://localhost:8080/"
        },
        "id": "dYuwr_dOeKvi",
        "outputId": "f834fe35-4de1-4d48-cff8-67f4c7653033"
      },
      "outputs": [
        {
          "output_type": "stream",
          "name": "stdout",
          "text": [
            "Is someone entering the home? (yes/no): yes\n",
            "Do you have credentials to enter the room? (yes/no): yes\n",
            "Enter your username: user\n",
            "Enter your password: password\n",
            "Person enters into room.\n",
            "Light is on, Fan is on, Fridge is on.\n"
          ]
        }
      ],
      "source": [
        "class Home:\n",
        "    def __init__(self):\n",
        "        self.light = False\n",
        "        self.fan = False\n",
        "        self.fridge = False\n",
        "\n",
        "    def enter_home(self, username, password):\n",
        "        if username == \"user\" and password == \"password\":\n",
        "            print(\"Person enters into room.\")\n",
        "            self.light = True\n",
        "            self.fan = True\n",
        "            self.fridge = True\n",
        "            print(\"Light is on, Fan is on, Fridge is on.\")\n",
        "        else:\n",
        "            print(\"Incorrect username or password.\")\n",
        "\n",
        "# Creating a Home instance\n",
        "my_home = Home()\n",
        "\n",
        "# Asking if someone is entering the home only once\n",
        "answer_enter_home = input(\"Is someone entering the home? (yes/no): \").lower()\n",
        "\n",
        "# If someone is entering the home, ask for credentials\n",
        "if answer_enter_home == \"yes\":\n",
        "    has_credentials = input(\"Do you have credentials to enter the room? (yes/no): \").lower()\n",
        "    if has_credentials == \"yes\":\n",
        "        username = input(\"Enter your username: \")\n",
        "        password = input(\"Enter your password: \")\n",
        "        my_home.enter_home(username, password)\n",
        "    elif has_credentials == \"no\":\n",
        "        print(\"No action taken.\")\n",
        "    else:\n",
        "        print(\"Invalid input. Please enter 'yes' or 'no'.\")\n",
        "elif answer_enter_home == \"no\":\n",
        "    print(\"No action taken.\")\n",
        "else:\n",
        "    print(\"Invalid input. Please enter 'yes' or 'no'.\")\n"
      ]
    },
    {
      "cell_type": "code",
      "source": [],
      "metadata": {
        "id": "wbFwEfUVRZo2"
      },
      "execution_count": 6,
      "outputs": []
    },
    {
      "cell_type": "code",
      "source": [
        "import cv2\n",
        "import dlib\n",
        "import numpy as np\n",
        "\n",
        "\n",
        "# Capture frames from the primary camera\n",
        "cap = cv2.VideoCapture(0)\n",
        "\n",
        "# Face detector model\n",
        "face_detector = dlib.get_frontal_face_detector()\n",
        "\n",
        "# Capture frames continuously\n",
        "while True:\n",
        "    ret, frame = cap.read()\n",
        "    frame = cv2.flip(frame, 1)\n",
        "\n",
        "    # Convert RGB to grayscale\n",
        "    gray = cv2.cvtColor(frame, cv2.COLOR_BGR2GRAY)\n",
        "\n",
        "    # Detect faces\n",
        "    faces = face_detector(gray)\n",
        "\n",
        "    # Iterate through all the faces and draw rectangles around each face and also number it\n",
        "    for i, face in enumerate(faces):\n",
        "        # Find the coordinates of the face\n",
        "        x, y = face.left(), face.top()\n",
        "        xl, yl = face.right(), face.bottom()\n",
        "\n",
        "        # Draw the rectangle\n",
        "        cv2.rectangle(frame, (x, y), (xl, yl), (0, 255, 0), 2)\n",
        "\n",
        "        # Add face number\n",
        "        cv2.putText(frame, \"Face num \" + str(i+1), (x - 10, y - 10), cv2.FONT_HERSHEY_SIMPLEX, 0.7, (0, 0, 255), 2)\n",
        "\n",
        "    # Display the frame\n",
        "    cv2.imshow('frame', frame)\n",
        "\n",
        "    # Code to come out of the infinite loop / interrupt the execution\n",
        "    if cv2.waitKey(1) & 0xFF == ord('q'):\n",
        "        break\n",
        "\n",
        "# Release the capture and destroy all windows\n",
        "cap.release()\n",
        "cv2.destroyAllWindows()\n"
      ],
      "metadata": {
        "colab": {
          "base_uri": "https://localhost:8080/",
          "height": 218
        },
        "id": "cOEPDxCORghp",
        "outputId": "58461519-64ac-4383-829c-135c139b30a8"
      },
      "execution_count": 4,
      "outputs": [
        {
          "output_type": "error",
          "ename": "error",
          "evalue": "OpenCV(4.9.0) /io/opencv/modules/imgproc/src/color.cpp:196: error: (-215:Assertion failed) !_src.empty() in function 'cvtColor'\n",
          "traceback": [
            "\u001b[0;31m---------------------------------------------------------------------------\u001b[0m",
            "\u001b[0;31merror\u001b[0m                                     Traceback (most recent call last)",
            "\u001b[0;32m<ipython-input-4-ccb6d453a87e>\u001b[0m in \u001b[0;36m<cell line: 13>\u001b[0;34m()\u001b[0m\n\u001b[1;32m     16\u001b[0m \u001b[0;34m\u001b[0m\u001b[0m\n\u001b[1;32m     17\u001b[0m     \u001b[0;31m# Convert RGB to grayscale\u001b[0m\u001b[0;34m\u001b[0m\u001b[0;34m\u001b[0m\u001b[0m\n\u001b[0;32m---> 18\u001b[0;31m     \u001b[0mgray\u001b[0m \u001b[0;34m=\u001b[0m \u001b[0mcv2\u001b[0m\u001b[0;34m.\u001b[0m\u001b[0mcvtColor\u001b[0m\u001b[0;34m(\u001b[0m\u001b[0mframe\u001b[0m\u001b[0;34m,\u001b[0m \u001b[0mcv2\u001b[0m\u001b[0;34m.\u001b[0m\u001b[0mCOLOR_BGR2GRAY\u001b[0m\u001b[0;34m)\u001b[0m\u001b[0;34m\u001b[0m\u001b[0;34m\u001b[0m\u001b[0m\n\u001b[0m\u001b[1;32m     19\u001b[0m \u001b[0;34m\u001b[0m\u001b[0m\n\u001b[1;32m     20\u001b[0m     \u001b[0;31m# Detect faces\u001b[0m\u001b[0;34m\u001b[0m\u001b[0;34m\u001b[0m\u001b[0m\n",
            "\u001b[0;31merror\u001b[0m: OpenCV(4.9.0) /io/opencv/modules/imgproc/src/color.cpp:196: error: (-215:Assertion failed) !_src.empty() in function 'cvtColor'\n"
          ]
        }
      ]
    },
    {
      "cell_type": "code",
      "source": [
        "import cv2\n",
        "\n",
        "def test_camera(index):\n",
        "    cap = cv2.VideoCapture(index)\n",
        "    if not cap.isOpened():\n",
        "        print(f\"Camera {index}: Unable to open camera\")\n",
        "        return\n",
        "\n",
        "    while True:\n",
        "        ret, frame = cap.read()\n",
        "        if not ret:\n",
        "            print(f\"Camera {index}: Unable to capture frame\")\n",
        "            break\n",
        "\n",
        "        cv2.imshow(f\"Camera {index}\", frame)\n",
        "        if cv2.waitKey(1) & 0xFF == ord('q'):\n",
        "            break\n",
        "\n",
        "    cap.release()\n",
        "    cv2.destroyAllWindows()\n",
        "\n",
        "# Iterate through camera indexes and test each one\n",
        "for i in range(10):  # Change range if you have more cameras\n",
        "    test_camera(i)\n",
        "\n"
      ],
      "metadata": {
        "colab": {
          "base_uri": "https://localhost:8080/"
        },
        "id": "thxy0amdW-M5",
        "outputId": "bbd7dab7-79a5-4ef0-8735-a61ea2c26bb0"
      },
      "execution_count": 3,
      "outputs": [
        {
          "output_type": "stream",
          "name": "stdout",
          "text": [
            "Camera 0: Unable to open camera\n",
            "Camera 1: Unable to open camera\n",
            "Camera 2: Unable to open camera\n",
            "Camera 3: Unable to open camera\n",
            "Camera 4: Unable to open camera\n",
            "Camera 5: Unable to open camera\n",
            "Camera 6: Unable to open camera\n",
            "Camera 7: Unable to open camera\n",
            "Camera 8: Unable to open camera\n",
            "Camera 9: Unable to open camera\n"
          ]
        }
      ]
    },
    {
      "cell_type": "code",
      "source": [
        "import cv2\n",
        "import dlib\n",
        "\n",
        "# Capture frames from the primary camera\n",
        "cap = cv2.VideoCapture(0)\n",
        "\n",
        "# Face detector model\n",
        "face_detector = dlib.get_frontal_face_detector()\n",
        "\n",
        "# Capture frames continuously\n",
        "while True:\n",
        "    # Read the frame\n",
        "    ret, frame = cap.read()\n",
        "\n",
        "    # Check if the frame is empty\n",
        "    if not ret:\n",
        "        print(\"Error: Unable to capture frame.\")\n",
        "        break\n",
        "\n",
        "    frame = cv2.flip(frame, 1)\n",
        "\n",
        "    # Convert RGB to grayscale\n",
        "    gray = cv2.cvtColor(frame, cv2.COLOR_BGR2GRAY)\n",
        "\n",
        "    # Detect faces\n",
        "    faces = face_detector(gray)\n",
        "\n",
        "    # Iterate through all the faces and draw rectangles around each face and also number it\n",
        "    for i, face in enumerate(faces):\n",
        "        # Find the coordinates of the face\n",
        "        x, y = face.left(), face.top()\n",
        "        xl, yl = face.right(), face.bottom()\n",
        "\n",
        "        # Draw the rectangle\n",
        "        cv2.rectangle(frame, (x, y), (xl, yl), (0, 255, 0), 2)\n",
        "\n",
        "        # Add face number\n",
        "        cv2.putText(frame, \"Face num \" + str(i+1), (x - 10, y - 10), cv2.FONT_HERSHEY_SIMPLEX, 0.7, (0, 0, 255), 2)\n",
        "\n",
        "    # Display the frame\n",
        "    cv2.imshow('frame', frame)\n",
        "\n",
        "    # Code to come out of the infinite loop / interrupt the execution\n",
        "    if cv2.waitKey(1) & 0xFF == ord('q'):\n",
        "        break\n",
        "\n",
        "# Release the capture and destroy all windows\n",
        "cap.release()\n",
        "cv2.destroyAllWindows()\n"
      ],
      "metadata": {
        "colab": {
          "base_uri": "https://localhost:8080/"
        },
        "id": "LEPEdHrHVtlq",
        "outputId": "10b1404e-1dd8-463c-c1f4-ebd53edb7c56"
      },
      "execution_count": 9,
      "outputs": [
        {
          "output_type": "stream",
          "name": "stdout",
          "text": [
            "Error: Unable to capture frame.\n"
          ]
        }
      ]
    },
    {
      "cell_type": "code",
      "source": [
        "pip install opencv-python --upgrade"
      ],
      "metadata": {
        "colab": {
          "base_uri": "https://localhost:8080/",
          "height": 314
        },
        "id": "eSEkhUFiV3jz",
        "outputId": "c57c098d-cb46-4199-8148-65f65c30827e"
      },
      "execution_count": 10,
      "outputs": [
        {
          "output_type": "stream",
          "name": "stdout",
          "text": [
            "Requirement already satisfied: opencv-python in /usr/local/lib/python3.10/dist-packages (4.8.0.76)\n",
            "Collecting opencv-python\n",
            "  Downloading opencv_python-4.9.0.80-cp37-abi3-manylinux_2_17_x86_64.manylinux2014_x86_64.whl (62.2 MB)\n",
            "\u001b[2K     \u001b[90m━━━━━━━━━━━━━━━━━━━━━━━━━━━━━━━━━━━━━━━━\u001b[0m \u001b[32m62.2/62.2 MB\u001b[0m \u001b[31m6.1 MB/s\u001b[0m eta \u001b[36m0:00:00\u001b[0m\n",
            "\u001b[?25hRequirement already satisfied: numpy>=1.21.2 in /usr/local/lib/python3.10/dist-packages (from opencv-python) (1.25.2)\n",
            "Installing collected packages: opencv-python\n",
            "  Attempting uninstall: opencv-python\n",
            "    Found existing installation: opencv-python 4.8.0.76\n",
            "    Uninstalling opencv-python-4.8.0.76:\n",
            "      Successfully uninstalled opencv-python-4.8.0.76\n",
            "Successfully installed opencv-python-4.9.0.80\n"
          ]
        },
        {
          "output_type": "display_data",
          "data": {
            "application/vnd.colab-display-data+json": {
              "pip_warning": {
                "packages": [
                  "cv2"
                ]
              },
              "id": "c1bd7418d4eb443a80eff54dbed8a2af"
            }
          },
          "metadata": {}
        }
      ]
    },
    {
      "cell_type": "code",
      "source": [
        "pip install dlib"
      ],
      "metadata": {
        "colab": {
          "base_uri": "https://localhost:8080/"
        },
        "id": "ETrko69ZUwKu",
        "outputId": "d7c922af-81e0-4139-e22e-8f84821a8cda"
      },
      "execution_count": 4,
      "outputs": [
        {
          "output_type": "stream",
          "name": "stdout",
          "text": [
            "Requirement already satisfied: dlib in /usr/local/lib/python3.10/dist-packages (19.24.4)\n"
          ]
        }
      ]
    }
  ]
}